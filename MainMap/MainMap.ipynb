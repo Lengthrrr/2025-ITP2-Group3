# --- deps ---
from matplotlib.pyplot import viridis
import ee, json, os, zipfile, geopandas as gpd, pandas as pd
import geemap                     # for ee_to_geojson()
import geemap.foliumap as gf      # Folium-backed Map
import folium
from folium import plugins
import pandas as pd
import geopandas as gpd
from jinja2 import Template
import numpy as np

ee.Initialize(project='gist-itproject2')

# -------------------------------
# Map setup
# -------------------------------
m = gf.Map(center=[-10, 140], zoom=3)
m.get_root().html.add_child(folium.Element(
    '<script src="https://cdn.jsdelivr.net/npm/@turf/turf@6/turf.min.js"></script>'
))

#CHANGE PATH HERE TO YOUR LOCAL PATH
CountryProfile = "/Users/kurtischen/Desktop/ITP2 Project/Mainmap/datasets/IndoPacific_Countries_Full.xlsx" 
profiles_df = pd.read_excel(CountryProfile)
ip_names = profiles_df['Country'].dropna().tolist()

try:
    profiles_df = pd.read_excel(CountryProfile)
    print("Excel file loaded successfully!")
    print("Columns:", profiles_df.columns.tolist())
    print("Sample data:\n", profiles_df.head())
    
    # Convert DataFrame to dictionary - adjust column names as needed
    profiles = {}
    for _, row in profiles_df.iterrows():
        country_name = str(row['Country'])
        if country_name:
            profiles[country_name] = {
                'Capital': str(row['Capital']),
                'Ruling': str(row['Ruling Party']),
                'Opposition': str(row['Opposition']),
                'Religion1': str(row['Religion 1']),
                'Religion2': str(row['Religion 2'])
            }
    
    print(f"Loaded {len(profiles)} country profiles from Excel")
    
except Exception as e:
    print(f"Error loading Excel file: {e}")

remove_search_marker_js = """
<script>
// Store country data from Python
window.countryProfiles = """ + json.dumps(profiles) + """;

(function() {
  function replaceSearchMarkers() {
    var mapElement = document.querySelector('.folium-map');
    if (!mapElement) return;
    
    var map = mapElement._leaflet_map;
    if (!map) {
      var mapId = Object.keys(window).find(key => key.startsWith('map_'));
      map = window[mapId];
    }
    
    if (!map) return;
    
    var currentPulseMarker = null;
    
    // Function to find which Indo-Pacific country contains the point
function findCountryAtPoint(latlng) {
  var pointFeature = turf.point([latlng.lng, latlng.lat]);
  var foundCountry = null;

  map.eachLayer(function(layer) {
    if (layer.feature && layer.feature.geometry && layer.feature.properties) {
      var props = layer.feature.properties;
      var countryName = props['Country'] || props['country'] || props['COUNTRY'] || props['country_na'];
      if (!countryName) return;

      try {
        if (turf.booleanPointInPolygon(pointFeature, layer.feature)) {
          foundCountry = countryName;
          return false; // stop loop early
        }
      } catch (e) {
        console.warn("Polygon check failed:", e);
      }
    }
  });

  return foundCountry;
}
    
    // Replace any marker added by the geocoder with pulsing circle
    map.on('layeradd', function(e) {
      var layer = e.layer;
      // Check if it's a default marker (not our custom DivIcon markers)
      if (layer._latlng && layer instanceof L.Marker) {
        if (!(layer.options.icon instanceof L.DivIcon)) {
          // Get the position
          var latlng = layer.getLatLng();
          
          // Remove the default marker
          setTimeout(function() {
            map.removeLayer(layer);
            
            // Remove previous pulse marker if exists
            if (currentPulseMarker) {
              map.removeLayer(currentPulseMarker);
            }
            
            // Find country at this location
            var countryName = findCountryAtPoint(latlng);
            var countryData = window.countryProfiles[countryName];
            
            // Add pulsing circle at the same location
            var pulseIcon = L.divIcon({
              className: 'search-pulse-marker',
              iconSize: [30, 30],
              iconAnchor: [15, 15]
            });
            
            currentPulseMarker = L.marker(latlng, {icon: pulseIcon});
            
            // Create popup content
            var popupContent;
            if (countryData) {
              popupContent = `
                <div style="font-family:system-ui;min-width:240px;line-height:1.4;">
                  <div style="font-weight:700;font-size:16px;margin-bottom:8px;color:#1976d2;text-align:center;">${countryName}</div>
                  <div style="margin:6px 0;"><b>Capital:</b> ${countryData.Capital}</div>
                  <div style="margin:6px 0;"><b>Ruling Party:</b> ${countryData.Ruling}</div>
                  <div style="margin:6px 0;"><b>Opposition:</b> ${countryData.Opposition}</div>
                  <div style="margin:6px 0;"><b>Religion 1:</b> ${countryData.Religion1}</div>
                  <div style="margin:6px 0;"><b>Religion 2:</b> ${countryData.Religion2}</div>
                  <div style="margin-top:8px;padding-top:6px;border-top:1px solid #eee;font-size:11px;color:#666;">
                    <b>Coordinates:</b> ${latlng.lat.toFixed(4)}°, ${latlng.lng.toFixed(4)}°
                  </div>
                </div>
              `;
            } else if (countryName) {
              popupContent = `
                <div style="font-family:system-ui;min-width:240px;line-height:1.4;">
                  <div style="font-weight:700;font-size:16px;margin-bottom:8px;color:#1976d2;text-align:center;">${countryName}</div>
                  <div style="margin:6px 0;color:#666;">No detailed information available for this country.</div>
                  <div style="margin-top:8px;padding-top:6px;border-top:1px solid #eee;font-size:11px;color:#666;">
                    <b>Coordinates:</b> ${latlng.lat.toFixed(4)}°, ${latlng.lng.toFixed(4)}°
                  </div>
                </div>
              `;
            } else {
              popupContent = `
                <div style="font-family:system-ui;min-width:240px;line-height:1.4;">
                  <div style="font-weight:700;font-size:16px;margin-bottom:8px;color:#1976d2;text-align:center;">Location</div>
                  <div style="margin:6px 0;color:#666;">This location is not in the Indo-Pacific region or country data is unavailable.</div>
                  <div style="margin-top:8px;padding-top:6px;border-top:1px solid #eee;font-size:11px;color:#666;">
                    <b>Coordinates:</b> ${latlng.lat.toFixed(4)}°, ${latlng.lng.toFixed(4)}°
                  </div>
                </div>
              `;
            }
            
            currentPulseMarker.bindPopup(popupContent, {maxWidth: 300}).addTo(map);
            currentPulseMarker.openPopup();
            
            // Remove pulse marker after 10 seconds
            setTimeout(function() {
              if (currentPulseMarker) {
                map.removeLayer(currentPulseMarker);
                currentPulseMarker = null;
              }
            }, 10000);
          }, 100);
        }
      }
    });
  }
  
  if (document.readyState === 'loading') {
    document.addEventListener('DOMContentLoaded', replaceSearchMarkers);
  } else {
    replaceSearchMarkers();
  }
})();
</script>
"""

m.get_root().html.add_child(folium.Element(remove_search_marker_js))
m._children = {k: v for k, v in m._children.items() if "tile_layer" not in k}

# --- Basemap group (radio buttons) ---
folium.TileLayer(
    "CartoDB.Positron",
    name="Simple Map",
    overlay=False,
    control=True
).add_to(m)

folium.TileLayer(
    "Esri.WorldImagery",
    name="Satellite Map",
    overlay=False,
    control=True,
    show=True
).add_to(m)

folium.TileLayer(
    "OpenStreetMap",
    name="Street Map",
    overlay=False,
    control=True,
    show=False
).add_to(m)

# -------------------------------
# ADD DRAWING TOOLS FIX
# -------------------------------
# Add drawing plugin
draw = plugins.Draw(
    export=False,  # This prevents the JSON alert popup
    position='topleft',
    draw_options={
        'polyline': True,
        'polygon': True,
        'circle': False,
        'rectangle': True,
        'marker': True,
        'circlemarker': False,
    },
    edit_options={'edit': True, 'remove': True}
)
draw.add_to(m)

# JavaScript to block JSON alerts and add custom popups
fix_draw_popups = """
<script>
// Block any alert() calls containing GeoJSON
(function() {
    var originalAlert = window.alert;
    window.alert = function(message) {
        if (typeof message === 'string' && 
            (message.includes('"type":"Feature"') || 
             message.includes('"geometry"') || 
             message.includes('"coordinates"'))) {
            console.log('Blocked GeoJSON alert');
            return;
        }
        originalAlert.call(window, message);
    };
})();

// Add custom popups to drawn shapes
setTimeout(function() {
    var mapElement = document.querySelector('.folium-map');
    if (!mapElement) return;
    
    var map = mapElement._leaflet_map;
    if (!map) {
        var mapId = Object.keys(window).find(key => key.startsWith('map_'));
        map = window[mapId];
    }
    
    if (!map) return;
    
    function formatShapeInfo(layer) {
        var html = '<div style="font-family: system-ui; padding: 12px; min-width: 220px;">';
        try {
            var geoJSON = layer.toGeoJSON();
            var geom = geoJSON.geometry;
            var type = geom.type;
            var coords = geom.coordinates;
            
            html += '<div style="font-weight: bold; font-size: 14px; color: #1976d2; margin-bottom: 8px; border-bottom: 2px solid #e3f2fd; padding-bottom: 6px;">';
            html += type + '</div>';
            
            if (type === 'Point') {
                html += '<div style="margin: 4px 0;"><strong>Latitude:</strong> ' + coords[1].toFixed(5) + '°</div>';
                html += '<div style="margin: 4px 0;"><strong>Longitude:</strong> ' + coords[0].toFixed(5) + '°</div>';
            } else if (type === 'Polygon') {
                var points = coords[0].length - 1;
                html += '<div style="margin: 4px 0;"><strong>Vertices:</strong> ' + points + '</div>';
                
                var lats = coords[0].map(c => c[1]);
                var lngs = coords[0].map(c => c[0]);
                var north = Math.max(...lats);
                var south = Math.min(...lats);
                var east = Math.max(...lngs);
                var west = Math.min(...lngs);
                
                html += '<div style="margin: 8px 0 4px 0; font-weight: bold;">Bounds:</div>';
                html += '<div style="margin-left: 12px; font-size: 12px; font-family: monospace;">';
                html += 'N: ' + north.toFixed(4) + '°<br>S: ' + south.toFixed(4) + '°<br>';
                html += 'E: ' + east.toFixed(4) + '°<br>W: ' + west.toFixed(4) + '°</div>';
                
                var area = Math.abs((north - south) * (east - west)) * 12321;
                html += '<div style="margin: 4px 0;"><strong>Approx. Area:</strong> ' + area.toFixed(1) + ' km²</div>';
            } else if (type === 'LineString') {
                html += '<div style="margin: 4px 0;"><strong>Points:</strong> ' + coords.length + '</div>';
            }
            
            html += '<div style="margin-top: 10px; padding-top: 8px; border-top: 1px solid #eee; font-size: 11px; color: #666;">';
            html += new Date().toLocaleString() + '</div>';
        } catch (e) {
            html += '<div>Custom Shape</div>';
        }
        html += '</div>';
        return html;
    }
    
    map.on('draw:created', function(e) {
        var layer = e.layer;
        if (layer.getPopup()) layer.unbindPopup();
        
        var content = formatShapeInfo(layer);
        layer.bindPopup(content, {maxWidth: 300, closeButton: true});
        map.addLayer(layer);
    });
    
}, 1000);
</script>
"""
m.get_root().html.add_child(folium.Element(fix_draw_popups))

# -------------------------------
# Title Box (main map heading / CHANGE HERE WHEN CHANGING REGIONS)
# -------------------------------
title_html = """
<div style="
    position: fixed;
    top: 10px;
    left: 50%;
    transform: translateX(-50%);
    z-index: 9999;
    font-size: 20px;
    font-weight: bold;
    background-color: rgba(255, 255, 255, 0.85);
    padding: 6px 12px;
    border-radius: 8px;
    box-shadow: 0 0 6px rgba(0,0,0,0.3);
    font-family: system-ui, sans-serif;
">
  GIST : Indo-Pacific Map
</div>
"""
m.get_root().html.add_child(folium.Element(title_html))

# -------------------------------
# 2) EE data & attributes
# -------------------------------
world = ee.FeatureCollection("USDOS/LSIB_SIMPLE/2017")
ip_fc = world.filter(ee.Filter.inList('country_na', ip_names))
non_ip_fc = world.filter(ee.Filter.Not(ee.Filter.inList('country_na', ip_names)))

def set_profile(f):
    name = ee.String(f.get('country_na'))
    prof = ee.Dictionary(profiles).get(name, ee.Dictionary({}))
    prof = ee.Dictionary(prof)
    return f.set({
        'Country': name,
        'Capital': prof.get('Capital', ''),
        'RulingParty': prof.get('Ruling', ''),
        'Opposition': prof.get('Opposition', ''),
        'Religion1': prof.get('Religion1', ''),
        'Religion2': prof.get('Religion2', '')
    })

ip_fc = ip_fc.map(set_profile)

# diamond centroids (one per country)
centroids = (
    ip_fc
    .map(lambda f: ee.Feature(f.geometry().centroid(1), f.toDictionary()))
    .distinct('Country')
)

ip_fill      = ip_fc.style(color="ffffff", fillColor="ffcc00", width=1.1)
ip_outline   = ip_fc.style(color="ffffff", fillColor="00000000", width=2.0)

m.addLayer(ip_fill, {}, "Indo-Pacific (fill)", False, 0.95)
m.addLayer(ip_outline, {}, "Indo-Pacific (outline)", True, 1.0)

# ADD: *GeoJSON* version of Indo-Pacific polygons (fix for point-in-polygon JS)
ip_geojson = geemap.ee_to_geojson(ip_fc)
folium.GeoJson(
    ip_geojson,
    name="Indo-Pacific (geojson hidden)",
    style_function=lambda f: {"color":"#00000000", "fillColor":"#00000000", "weight":0, "fillOpacity":0},
    tooltip=None,
    control=False  
).add_to(m)

# -------------------------------
# 4) Country diamond markers
# -------------------------------
gj = geemap.ee_to_geojson(centroids)

diamond_icon_html = """
<div style="width:14px;height:14px;background:#ffcc00;border:2px solid white;
            transform: rotate(45deg);box-shadow:0 0 3px rgba(0,0,0,.35);
            border-radius:1px;"></div>"""

marker_group = folium.FeatureGroup(name="Country markers", show=False)

for feat in gj["features"]:
    lon, lat = feat["geometry"]["coordinates"]
    p = feat["properties"]

    popup_html = f"""
    <div style="font-family:system-ui;min-width:240px;line-height:1.35">
      <div style="font-weight:700;margin-bottom:4px">{p.get('Country','')}</div>
      <div><b>Capital:</b> {p.get('Capital','') or '—'}</div>
      <div><b>Ruling:</b> {p.get('RulingParty','') or '—'}</div>
      <div><b>Opposition:</b> {p.get('Opposition','') or '—'}</div>
      <div><b>Religions:</b> {p.get('Religion1','') or '—'}{', ' if p.get('Religion2') else ''}{p.get('Religion2','')}</div>
    </div>
    """

    folium.Marker(
        location=[lat, lon],
        popup=folium.Popup(popup_html, max_width=280),
        icon=folium.DivIcon(html=diamond_icon_html)
    ).add_to(marker_group)

marker_group.add_to(m)

# -------------------------------
# 5) Volcanoes (Red Triangles) from CSV
# -------------------------------

#CHANGE PATH HERE TO YOUR LOCAL PATH
volcano_df = pd.read_csv("/Users/kurtischen/Desktop/ITP2 Project/Mainmap/datasets/GVP_Volcano_List_Holocene_202504090341_edit.csv")

# Filter only rows with valid coordinates
volcano_df = volcano_df[volcano_df['Latitude'].notnull() & volcano_df['Longitude'].notnull()]


volcano_layer = folium.FeatureGroup(name="Volcanoes", show=False)

# Volcano type to colour mapping
type_colors = {
    "Stratovolcano": "red",
    "Shield volcano": "orange",
    "Caldera": "purple",
    "Lava dome": "blue",
    "Complex volcano": "green",
    "Pyroclastic cone": "pink",
    "Submarine volcano": "cyan",
    "Maar": "brown"
}

# Add volcano markers
for _, row in volcano_df.iterrows():
    lat = row['Latitude']
    lon = row['Longitude']
    vtype = row.get('Primary Volcano Type', '')
    color = type_colors.get(vtype, 'gray')  # fallback if type missing

    triangle_icon_html = f"""
    <div style="
      width: 0;
      height: 0;
      border-left: 7px solid transparent;
      border-right: 7px solid transparent;
      border-bottom: 14px solid {color};
      transform: rotate(0deg);
    "></div>
    """

    popup_html = f"""
    <div style="font-family:system-ui;min-width:240px;line-height:1.35">
      <div style="font-weight:700;margin-bottom:4px">{row.get('Volcano Name','')}</div>
      <div><b>Country:</b> {row.get('Country','—')}</div>
      <div><b>Last Eruption:</b> {row.get('Last Known Eruption','—')}</div>
      <div><b>Elevation:</b> {row.get('Elevation (m)','—')} m</div>
      <div><b>Type:</b> {vtype or '—'}</div>
      <div><b>Rock Type:</b> {row.get('Dominant Rock Type','—')}</div>
      <div><b>Tectonic Setting:</b> {row.get('Tectonic Setting','—')}</div>
    </div>
    """

    folium.Marker(
        location=[lat, lon],
        popup=folium.Popup(popup_html, max_width=300),
        icon=folium.DivIcon(html=triangle_icon_html)
    ).add_to(volcano_layer)

volcano_layer.add_to(m)

# -------------------------------
# 6) Tectonic Plates
# -------------------------------
plate_color_map = {
    'spreading center': 'blue',
    'collision zone': 'red',
    'subduction zone': 'darkred',
    'transform': 'orange',
    'extension zone': 'purple',
    'inferred': 'gray'
}
# Load simplified Hasterok plate boundaries
#CHANGE PATH HERE TO YOUR LOCAL PATH
plates = gpd.read_file("/Users/kurtischen/Desktop/ITP2 Project/Mainmap/datasets/TectonicPlates/Hasterok_plate_boundaries_simplified.shp")
plates = plates.to_crs(epsg=4326)  # Make sure it's WGS84 for Folium

# Ensure correct CRS (EPSG:4326)
if plates.crs and plates.crs.to_epsg() != 4326:
    plates = plates.to_crs(epsg=4326)

# Add to map as styled GeoJSON
plate_layer = folium.FeatureGroup(name="Tectonic Plates", show=False)

for boundary_type, color in plate_color_map.items():
    subset = plates[plates['type'].str.lower().str.strip() == boundary_type]

    if not subset.empty:
        folium.GeoJson(
            subset,
            name=boundary_type.title(),  # "Spreading Center"
            style_function=lambda feature, color=color: {
                "color": color,
                "weight": 2.5,
                "opacity": 0.9
            },
            tooltip=folium.GeoJsonTooltip(fields=['type', 'plate1', 'plate2'])
        ).add_to(plate_layer)

plate_layer.add_to(m)

# -------------------------------
# 8) Cyclones (Tropical Cyclones) from IBTrACS dataset
# -------------------------------
#CHANGE PATH HERE TO YOUR LOCAL PATH
cyclone_files = "datasets/Cyclones/IBTrACS.ALL.list.v04r01.lines.shp"

# Check if shapefile exists
if not os.path.exists(cyclone_files):
    cyclone_dir = "datasets/Cyclones"
    print(f"Shapefile not found at {cyclone_files}. Available files in directory:")
    print(os.listdir(cyclone_dir))
    raise FileNotFoundError(f"Cannot find {cyclone_files}")

# Load IBTrACS shapefile (lines) for cyclones
try:
    cyclones_gdf = gpd.read_file(cyclone_files)
    print("IBTrACS Shapefile loaded successfully.")
except Exception as e:
    print(f"Error loading shapefile: {e}")
    raise

# Filter to Indo-Pacific region (approximate bounding box: lon 40 to 180, lat -50 to 50)
cyclones_ip = cyclones_gdf.cx[40:180, -50:50]

# Filter to recent data (2000-2024) to focus on modern events
cyclones_ip = cyclones_ip[cyclones_ip['SEASON'] >= 2000]

# Filter to tropical storms and above (USA_WIND >= 34 knots)
cyclones_ip = cyclones_ip[cyclones_ip['USA_WIND'] >= 34]

# Sample to limit data for testing (e.g., 100 cyclones)
cyclones_ip = cyclones_ip.sample(n=100, random_state=42)  # random_state for reproducibility

# Define wind speed categories for intensity shading (Saffir-Simpson inspired)
def get_wind_category(wind):
    if wind < 64:
        return 'Tropical Storm'
    elif wind < 83:
        return 'Category 1'
    elif wind < 96:
        return 'Category 2'
    elif wind < 113:
        return 'Category 3'
    elif wind < 137:
        return 'Category 4'
    else:
        return 'Category 5'

wind_colors = {
    'Tropical Storm': '#ADD8E6',  # Light blue
    'Category 1': '#0000FF',     # Blue
    'Category 2': '#00008B',     # Dark blue
    'Category 3': '#800080',     # Purple
    'Category 4': '#FFA500',     # Orange
    'Category 5': '#FF0000'      # Red
}

# Create cyclone layer (points extracted from line centroids, colored by intensity)
cyclone_layer = folium.FeatureGroup(name="Cyclones", show=False)

for _, row in cyclones_ip.iterrows():
    # Get centroid of the line geometry for marker placement
    lon, lat = row.geometry.centroid.x, row.geometry.centroid.y
    wind = row['USA_WIND']
    category = get_wind_category(wind)
    color = wind_colors.get(category, 'gray')
    
    # Circle radius proportional to wind speed (scale: 3-20 pixels)
    radius = max(3, min(20, (wind / 10)))
    
    # Icon HTML for a filled circle
    circle_icon_html = f"""
    <div style="
        width: {2*radius}px;
        height: {2*radius}px;
        background-color: {color};
        border: 2px solid #333;
        border-radius: 50%;
        opacity: 0.8;
        box-shadow: 0 0 5px rgba(0,0,0,0.5);
    "></div>
    """
    
    # Popup with cyclone details
    name = row.get('NAME', 'Unknown')
    iso_time = row.get('ISO_TIME', 'Unknown')
    basin = row.get('BASIN', 'Unknown')
    pressure = row.get('USA_PRES', 'N/A')
    
    popup_html = f"""
    <div style="font-family:system-ui;min-width:240px;line-height:1.35">
      <div style="font-weight:700;margin-bottom:4px">{name} ({category})</div>
      <div><b>Wind Speed:</b> {wind} knots</div>
      <div><b>Date/Time:</b> {iso_time}</div>
      <div><b>Basin:</b> {basin}</div>
      <div><b>Pressure:</b> {pressure} mb</div>
    </div>
    """
    
    folium.Marker(
        location=[lat, lon],
        popup=folium.Popup(popup_html, max_width=280),
        icon=folium.DivIcon(html=circle_icon_html)
    ).add_to(cyclone_layer)

cyclone_layer.add_to(m)


# -------------------------------
# 9) Earthquakes from ISC-GEM dataset
# -------------------------------
# Define earthquake CSV path (relative)
earthquake_file = "datasets/Earthquakes/isc-gem-cat-edit.csv"

# Check if file exists
if not os.path.exists(earthquake_file):
    print(f"CSV not found at {earthquake_file}")
    raise FileNotFoundError(f"Cannot find {earthquake_file}")

# Load earthquake CSV without header (first row is data, not headers)
earthquake_df = pd.read_csv(earthquake_file, header=None)

# Assign column names based on the structure you provided earlier
column_names = [
    'date', 'lat', 'lon', 'smajax', 'sminax', 'strike', 'q', 'depth', 'unc', 'q .1',
    'mw', 'unc', 'q .2', 's', 'mo', 'fac', 'mo_auth', 'mpp', 'mpr', 'mrr',
    'mrt', 'mtp', 'mtt', 'str1', 'dip1', 'rake1', 'str2', 'dip2', 'rake2',
    'type', 'eventid'
]
earthquake_df.columns = column_names

print("Available columns in earthquake CSV:", earthquake_df.columns.tolist())
print("Sample dates from 'date' column:", earthquake_df['date'].head().tolist())

# Define column names
lon_col = 'lon'         # Longitude column (index 2)
lat_col = 'lat'         # Latitude column (index 1)
mag_col = 'mw'          # Magnitude column (index 10)
date_col = 'date'       # Date column (index 0)
depth_col = 'depth'     # Depth column (index 7)
region_col = 'type'     # Using 'type' as a proxy for region (index 29)

# Convert numeric columns to float, coercing errors to NaN
numeric_cols = [lon_col, lat_col, mag_col, depth_col]
for col in numeric_cols:
    earthquake_df[col] = pd.to_numeric(earthquake_df[col], errors='coerce')

# Parse the date column with the correct format (YYYY-MM-DD HH:MM:SS.sss) and keep as datetime64[ns]
try:
    earthquake_df[date_col] = pd.to_datetime(earthquake_df[date_col], format='%Y-%m-%d %H:%M:%S.%f')
except ValueError as e:
    print(f"Date parsing error: {e}. Trying flexible parsing...")
    earthquake_df[date_col] = pd.to_datetime(earthquake_df[date_col], errors='coerce')

# Drop rows where any numeric column or date is NaN (unparseable)
earthquake_df = earthquake_df.dropna(subset=numeric_cols + [date_col])

# Filter to Indo-Pacific region (lon: 40 to 180, lat: -50 to 50)
earthquake_df = earthquake_df[
    (earthquake_df[lon_col] >= 40) & (earthquake_df[lon_col] <= 180) &
    (earthquake_df[lat_col] >= -50) & (earthquake_df[lat_col] <= 50)
]

# Filter to recent data (2000-2025) and magnitude >= 4.0 using datetime64[ns]
earthquake_df = earthquake_df[
    (earthquake_df[date_col] >= pd.to_datetime('2000-01-01')) & 
    (earthquake_df[date_col] <= pd.to_datetime('2025-09-13')) &  # Updated to current date
    (earthquake_df[mag_col] >= 4.0)
]

# Sample to limit data for testing (e.g., 100 earthquakes)
earthquake_df = earthquake_df.sample(n=100, random_state=42)  # random_state for reproducibility

# Print filtered data to debug
print("Filtered earthquake data sample:")
print(earthquake_df.head())

# Magnitude-based coloring: Highlight strong quakes (M7+) in red/orange
def get_mag_color(mag):
    if mag < 5:
        return '#00FF00'  # Green
    elif mag < 6:
        return '#FFFF00'  # Yellow
    elif mag < 7:
        return '#FFA500'  # Orange
    else:
        return '#FF0000'  # Red (strong, e.g., subduction-related)

# Create earthquake layer
earthquake_layer = folium.FeatureGroup(name="Earthquakes", show=False)

for _, row in earthquake_df.iterrows():
    lat = row[lat_col]
    lon = row[lon_col]
    mag = row[mag_col]
    color = get_mag_color(mag)
    
    # Radius proportional to magnitude (scale: 3-25 pixels)
    radius = max(3, min(25, mag * 3))
    
    # Icon HTML for circle
    circle_icon_html = f"""
    <div style="
        width: {2*radius}px;
        height: {2*radius}px;
        background-color: {color};
        border: 2px solid #333;
        border-radius: 50%;
        opacity: 0.8;
        box-shadow: 0 0 5px rgba(0,0,0,0.5);
    "></div>
    """
    
    # Popup with details
    time = row[date_col].strftime('%Y-%m-%d') if pd.notnull(row[date_col]) else 'Unknown'
    depth = row.get(depth_col, 'N/A')
    mag = row.get(mag_col, 'N/A')
    etype = row.get(region_col, 'Unknown')

    popup_html = f"""
    <div style="font-family:system-ui;min-width:240px;line-height:1.35">
      <div style="font-weight:700;margin-bottom:4px">Magnitude {mag}</div>
      <div><b>Lat/Lon:</b> {lat}, {lon}</div>
      <div><b>Date:</b> {time}</div>
      <div><b>Depth:</b> {depth} km</div>
      <div><b>Type:</b> {etype}</div>
    </div>
    """

    folium.Marker(
        location=[lat, lon],
        popup=folium.Popup(popup_html, max_width=280),
        icon=folium.DivIcon(html=circle_icon_html)
    ).add_to(earthquake_layer)

earthquake_layer.add_to(m)

# -------------------------------
# 10) Rivers
# -------------------------------
#CHANGE PATH HERE TO YOUR LOCAL PATH
rivers = gpd.read_file("datasets/Rivers/RiverHRCenterlinesCombo.shp")

target_rivers = ["Indus", "Ganges", "Brahmaputra", "Ayeyarwady", "Salween", "Mekong", "Yangtze", "Yellow"]
tp_rivers = rivers[rivers["NAME"].isin(target_rivers)].copy()

tp_rivers_layer = folium.FeatureGroup(name="Tibetan Plateau Rivers", show=False)

folium.GeoJson(
    tp_rivers.__geo_interface__,
    style_function=lambda f: {"color": "cyan", "weight": 2, "opacity": 0.9},
    tooltip=folium.GeoJsonTooltip(fields=["NAME"], aliases=["River:"])
).add_to(tp_rivers_layer)

tp_rivers_layer.add_to(m)

# -------------------------------
# 11) Population Density (LandScan 2022, Indo-Pacific 40% Downsampled GeoTIFF, hosted on AWS S3)
# -------------------------------
folium.TileLayer(
    tiles=(
        "https://titiler.xyz/cog/tiles/WebMercatorQuad/{z}/{x}/{y}.png"
        "?url=https://itp2-population-data.s3.ap-southeast-2.amazonaws.com/landscan-indo-pacific-40res-cog.tif"
        "&bidx=1"
        "&rescale=42,255"
        "&colormap_name=inferno"
    ),
    name="Population Density",
    attr="LandScan 2022 © Oak Ridge National Laboratory, via TiTiler",
    overlay=True,
    show=False,
    opacity=0.9
).add_to(m)

# -------------------------------
# Dynamic Master Legend
# -------------------------------
legend_html = """
<div id="map-legend" style="
  position: fixed; bottom: 20px; right: 20px;
  width: 240px; max-height: 420px; overflow-y: auto;
  background: #fff; border: 2px solid #888; border-radius: 8px;
  z-index: 9999; font-size: 12px; padding: 10px;
  box-shadow: 0 0 8px rgba(0,0,0,.3); line-height: 1.4;">
  <h4 style="margin:0 0 8px 0; text-align:center;">Legend</h4>

  <!-- Use data-layer to match LayerControl text exactly -->

  <div class="legend-item" data-layer="Indo-Pacific (fill)" style="display:none">
    <span style="display:inline-block;width:18px;height:12px;background:#ffcc00;border:1px solid #999;margin-right:6px;"></span>
    Indo-Pacific country
  </div>

  <div class="legend-item" data-layer="Indo-Pacific (outline)" style="display:none">
    <span style="background:#000;width:20px;height:2px;display:inline-block;margin-right:6px;"></span>
    Indo-Pacific outline
  </div>

  <div class="legend-item" data-layer="Country markers" style="display:none">
    <span style="display:inline-block;width:14px;height:14px;background:#ffcc00;border:2px solid #fff;transform:rotate(45deg);margin-right:6px;"></span>
    Country centroid
  </div>

  <div class="legend-item" data-layer="Volcanoes" style="display:none">
    <b>Volcanoes</b><br>
    <span style="display:inline-block;border-left:7px solid transparent;border-right:7px solid transparent;border-bottom:14px solid red;margin-right:6px;"></span> Stratovolcano<br>
    <span style="display:inline-block;border-left:7px solid transparent;border-right:7px solid transparent;border-bottom:14px solid orange;margin-right:6px;"></span> Shield volcano<br>
    <span style="display:inline-block;border-left:7px solid transparent;border-right:7px solid transparent;border-bottom:14px solid purple;margin-right:6px;"></span> Caldera<br>
    <span style="display:inline-block;border-left:7px solid transparent;border-right:7px solid transparent;border-bottom:14px solid blue;margin-right:6px;"></span> Lava dome<br>
    <span style="display:inline-block;border-left:7px solid transparent;border-right:7px solid transparent;border-bottom:14px solid green;margin-right:6px;"></span> Complex volcano<br>
    <span style="display:inline-block;border-left:7px solid transparent;border-right:7px solid transparent;border-bottom:14px solid pink;margin-right:6px;"></span> Pyroclastic cone<br>
    <span style="display:inline-block;border-left:7px solid transparent;border-right:7px solid transparent;border-bottom:14px solid cyan;margin-right:6px;"></span> Submarine volcano<br>
    <span style="display:inline-block;border-left:7px solid transparent;border-right:7px solid transparent;border-bottom:14px solid brown;margin-right:6px;"></span> Maar
  </div>

  <div class="legend-item" data-layer="Tectonic Plates" style="display:none">
    <b>Tectonic Plates</b><br>
    <span style="background:blue;width:22px;height:3px;display:inline-block;margin-right:6px;"></span> Spreading center<br>
    <span style="background:red;width:22px;height:3px;display:inline-block;margin-right:6px;"></span> Collision zone<br>
    <span style="background:darkred;width:22px;height:3px;display:inline-block;margin-right:6px;"></span> Subduction zone<br>
    <span style="background:orange;width:22px;height:3px;display:inline-block;margin-right:6px;"></span> Transform<br>
    <span style="background:purple;width:22px;height:3px;display:inline-block;margin-right:6px;"></span> Extension zone<br>
    <span style="background:gray;width:22px;height:3px;display:inline-block;margin-right:6px;"></span> Inferred
  </div>

  <div class="legend-item" data-layer="Cyclones" style="display:none">
    <b>Cyclones</b><br>
    <i style="background:#ADD8E6;width:12px;height:12px;display:inline-block;margin-right:6px;"></i> Tropical Storm<br>
    <i style="background:#0000FF;width:12px;height:12px;display:inline-block;margin-right:6px;"></i> Category 1<br>
    <i style="background:#00008B;width:12px;height:12px;display:inline-block;margin-right:6px;"></i> Category 2<br>
    <i style="background:#800080;width:12px;height:12px;display:inline-block;margin-right:6px;"></i> Category 3<br>
    <i style="background:#FFA500;width:12px;height:12px;display:inline-block;margin-right:6px;"></i> Category 4<br>
    <i style="background:#FF0000;width:12px;height:12px;display:inline-block;margin-right:6px;"></i> Category 5
  </div>

  <div class="legend-item" data-layer="Earthquakes" style="display:none">
    <b>Earthquakes</b><br>
    <i style="background:#00FF00;width:12px;height:12px;display:inline-block;margin-right:6px;"></i> M4–4.9<br>
    <i style="background:#FFFF00;width:12px;height:12px;display:inline-block;margin-right:6px;"></i> M5–5.9<br>
    <i style="background:#FFA500;width:12px;height:12px;display:inline-block;margin-right:6px;"></i> M6–6.9<br>
    <i style="background:#FF0000;width:12px;height:12px;display:inline-block;margin-right:6px;"></i> M7+
  </div>

  <div class="legend-item" data-layer="Tibetan Plateau Rivers" style="display:none">
    <b>Rivers</b><br>
    <span style="background:cyan;width:22px;height:3px;display:inline-block;margin-right:6px;"></span> Major river
  </div>
    <div class="legend-item" data-layer="Population Density" style="display:none">
    <b>Population Density</b><br>
    <div style="height: 12px; width: 120px; background: linear-gradient(to right, black, red, orange, yellow, white); border:1px solid #999; margin-bottom:4px;"></div>
    <span style="font-size:11px;">Low &nbsp;&nbsp;&nbsp;&nbsp;&nbsp;&nbsp;&nbsp;&nbsp;&nbsp;&nbsp;&nbsp;&nbsp;&nbsp;&nbsp;&nbsp;&nbsp;&nbsp;&nbsp;&nbsp;&nbsp;&nbsp;&nbsp;&nbsp;&nbsp;&nbsp;&nbsp;&nbsp;&nbsp;&nbsp;&nbsp;&nbsp;&nbsp; High</span>
  </div>
</div>

<script>
// Sync legend purely from the LayerControl checkboxes (no need to access the map variable)
(function() {
  function wireLegend() {
    // Wait until Leaflet has rendered the overlays list
    var rows = document.querySelectorAll('.leaflet-control-layers-overlays label');
    if (!rows.length) { setTimeout(wireLegend, 200); return; }

    // For each overlay checkbox row, connect it to the matching legend item
    rows.forEach(function(labelEl) {
      var input = labelEl.querySelector('input[type=checkbox]');
      var nameSpan = labelEl.querySelector('span');
      var name = (nameSpan ? nameSpan.textContent : labelEl.textContent).trim();

      // Find legend item by data-layer attribute
      var legendItem = document.querySelector('.legend-item[data-layer="' + name + '"]');
      if (!legendItem) return;  // no legend entry for this layer → ignore

      // Set initial visibility
      legendItem.style.display = input.checked ? 'block' : 'none';

      // Keep legend in sync on toggle
      input.addEventListener('change', function() {
        legendItem.style.display = this.checked ? 'block' : 'none';
      });
    });
  }

  if (document.readyState === 'loading') {
    document.addEventListener('DOMContentLoaded', wireLegend);
  } else {
    wireLegend();
  }
})();
</script>
"""
m.get_root().html.add_child(folium.Element(legend_html))



# -------------------------------
# Final controls and display and aesthetics stuff 
# -------------------------------
folium.LayerControl(collapsed=False).add_to(m)

#TOOLTIPS (The text that shows when you hover over a layer name in the LayerControl)
tooltips_js = """
<script>
(function() {
  function addLayerTooltips() {
    const tooltips = {
      "Simple Map": "Clean light basemap (CartoDB Positron) / Perfect for seeing land-based boundaries and country level sub-divisions.",
      "Satellite Map": "High-resolution Satellite imagery from Esri.",
      "Street Map": "Standard OpenStreetMap basemap. / Perfect for seeing roads, cities, maritime borders and human infrastructure.",

      "Indo-Pacific (fill)": "Yellow fill for Indo-Pacific countries.",
      "Indo-Pacific (outline)": "White outline around Indo-Pacific region.",
      "Country markers": "Diamond icons at country centroids with popups.",
      "Volcanoes": "Holocene volcano locations, coloured by type.",
      "Tectonic Plates": "Major plate boundaries (collision, spreading, etc.).",
      "Cyclones": "Tracks of tropical cyclones since 2000.",
      "Earthquakes": "Significant earthquakes (M4+) since 2000.",
      "Tibetan Plateau Rivers": "Major rivers originating in the Tibetan Plateau.",
      "Population Density": "LandScan 2022 population distribution (coloured raster)."
    };

    // Attach tooltip to each label in the LayerControl
    document.querySelectorAll('.leaflet-control-layers label').forEach(function(label) {
      const span = label.querySelector('span');
      if (!span) return;
      const name = span.textContent.trim();
      if (tooltips[name]) {
        label.title = tooltips[name];  // native browser tooltip
      }
    });
  }

  setTimeout(addLayerTooltips, 800); // delay to ensure LayerControl renders
})();
</script>
"""
m.get_root().html.add_child(folium.Element(tooltips_js))

#MAP TYPE LABEL (Above base layers)
maptype_label = """
<script>
(function() {
  function addMapTypeLabel() {
    var baseContainer = document.querySelector('.leaflet-control-layers-base');
    if (baseContainer && !document.getElementById('map-type-label')) {
      var label = document.createElement('div');
      label.id = 'map-type-label';
      label.innerHTML = '<b style="font-size:12px;">Map Type</b>';
      label.style.marginBottom = '4px';
      baseContainer.prepend(label);
    }
  }
  setTimeout(addMapTypeLabel, 500);
})();
</script>
"""

# OVERLAYS LABEL (Above overlays)
overlay_label = """
<script>
(function() {
  function addOverlayLabel() {
    var overlayContainer = document.querySelector('.leaflet-control-layers-overlays');
    if (overlayContainer && !document.getElementById('overlays-label')) {
      var label = document.createElement('div');
      label.id = 'overlays-label';
      label.innerHTML = '<b style="font-size:12px;">Overlays</b>';
      label.style.margin = '6px 0 4px 0';
      overlayContainer.prepend(label);
    }
  }
  setTimeout(addOverlayLabel, 500);
})();
</script>
"""

m.get_root().html.add_child(folium.Element(maptype_label))
m.get_root().html.add_child(folium.Element(overlay_label))

# Show in notebook
m
