{
 "cells": [
  {
   "cell_type": "code",
   "execution_count": 21,
   "id": "d19c7c83-1c63-45c3-8229-03362bacefc6",
   "metadata": {},
   "outputs": [
    {
     "data": {
      "text/html": [
       "\n",
       "            <style>\n",
       "                .geemap-dark {\n",
       "                    --jp-widgets-color: white;\n",
       "                    --jp-widgets-label-color: white;\n",
       "                    --jp-ui-font-color1: white;\n",
       "                    --jp-layout-color2: #454545;\n",
       "                    background-color: #383838;\n",
       "                }\n",
       "\n",
       "                .geemap-dark .jupyter-button {\n",
       "                    --jp-layout-color3: #383838;\n",
       "                }\n",
       "\n",
       "                .geemap-colab {\n",
       "                    background-color: var(--colab-primary-surface-color, white);\n",
       "                }\n",
       "\n",
       "                .geemap-colab .jupyter-button {\n",
       "                    --jp-layout-color3: var(--colab-primary-surface-color, white);\n",
       "                }\n",
       "            </style>\n",
       "            "
      ],
      "text/plain": [
       "<IPython.core.display.HTML object>"
      ]
     },
     "metadata": {},
     "output_type": "display_data"
    }
   ],
   "source": [
    "import ee\n",
    "ee.Initialize(project='gist-itproject2')  \n"
   ]
  },
  {
   "cell_type": "code",
   "execution_count": 22,
   "id": "8d6b3af8-af7f-4a7e-b5b7-d68aa46a7e96",
   "metadata": {},
   "outputs": [
    {
     "data": {
      "text/html": [
       "\n",
       "            <style>\n",
       "                .geemap-dark {\n",
       "                    --jp-widgets-color: white;\n",
       "                    --jp-widgets-label-color: white;\n",
       "                    --jp-ui-font-color1: white;\n",
       "                    --jp-layout-color2: #454545;\n",
       "                    background-color: #383838;\n",
       "                }\n",
       "\n",
       "                .geemap-dark .jupyter-button {\n",
       "                    --jp-layout-color3: #383838;\n",
       "                }\n",
       "\n",
       "                .geemap-colab {\n",
       "                    background-color: var(--colab-primary-surface-color, white);\n",
       "                }\n",
       "\n",
       "                .geemap-colab .jupyter-button {\n",
       "                    --jp-layout-color3: var(--colab-primary-surface-color, white);\n",
       "                }\n",
       "            </style>\n",
       "            "
      ],
      "text/plain": [
       "<IPython.core.display.HTML object>"
      ]
     },
     "metadata": {},
     "output_type": "display_data"
    },
    {
     "data": {
      "application/vnd.jupyter.widget-view+json": {
       "model_id": "d5782cfd182841aab6d651d71a1121b4",
       "version_major": 2,
       "version_minor": 0
      },
      "text/plain": [
       "Map(center=[-10, 140], controls=(WidgetControl(options=['position', 'transparent_bg'], position='topright', tr…"
      ]
     },
     "execution_count": 22,
     "metadata": {},
     "output_type": "execute_result"
    }
   ],
   "source": [
    "import ee, geemap\n",
    "from ipyleaflet import Marker, DivIcon, Popup\n",
    "from ipywidgets import HTML  # <-- correct source for HTML widget\n",
    "\n",
    "ee.Initialize(project='gist-itproject2')\n",
    "\n",
    "# ---------- 1) Your country profiles ----------\n",
    "profiles = [\n",
    "    {\"Country\": \"Australia\", \"Capital\": \"Canberra\",\n",
    "     \"RulingParty\": \"Australian Labor Party\", \"Opposition\": \"Liberal-Nationals Coalition\",\n",
    "     \"Religion1\": \"No Religion (38.7%)\", \"Religion2\": \"Catholic (19.6%)\"},\n",
    "    {\"Country\": \"China\", \"Capital\": \"Beijing\",\n",
    "     \"RulingParty\": \"Chinese Communist Party (CCP)\", \"Opposition\": \"None (one-party state)\",\n",
    "     \"Religion1\": \"Unaffiliated (52.1%)\", \"Religion2\": \"Chinese Folk Religion (21.9%)\"},\n",
    "    {\"Country\": \"India\", \"Capital\": \"New Delhi\",\n",
    "     \"RulingParty\": \"BJP-led coalition\", \"Opposition\": \"INDIA bloc\",\n",
    "     \"Religion1\": \"Hinduism (79.8%)\", \"Religion2\": \"Islam (14.2%)\"},\n",
    "    {\"Country\": \"Indonesia\", \"Capital\": \"Nusantara (transitional)\",\n",
    "     \"RulingParty\": \"Gerindra (President)\", \"Opposition\": \"PDI-P (role in flux)\",\n",
    "     \"Religion1\": \"Muslim (87.2%)\", \"Religion2\": \"Protestant (7%)\"},\n",
    "    {\"Country\": \"Japan\", \"Capital\": \"Tokyo\",\n",
    "     \"RulingParty\": \"LDP–Komeito coalition\", \"Opposition\": \"CDP\",\n",
    "     \"Religion1\": \"Shinto (48.6%)\", \"Religion2\": \"Buddhism (46.4%)\"},\n",
    "    {\"Country\": \"Malaysia\", \"Capital\": \"Kuala Lumpur\",\n",
    "     \"RulingParty\": \"Pakatan Harapan (PH) coalition\", \"Opposition\": \"Perikatan Nasional (PN)\",\n",
    "     \"Religion1\": \"Islam (63.5%)\", \"Religion2\": \"Buddhism (18.7%)\"},\n",
    "    {\"Country\": \"New Zealand\", \"Capital\": \"Wellington\",\n",
    "     \"RulingParty\": \"National Party–led coalition\", \"Opposition\": \"Labour Party\",\n",
    "     \"Religion1\": \"No Religion (51.6%)\", \"Religion2\": \"Christianity (32.3%)\"},\n",
    "    {\"Country\": \"Philippines\", \"Capital\": \"Manila\",\n",
    "     \"RulingParty\": \"Alyansa para sa Bagong Pilipinas\", \"Opposition\": \"DuterTen coalition\",\n",
    "     \"Religion1\": \"Roman Catholic (78.8%)\", \"Religion2\": \"Islam (6.4%)\"},\n",
    "    {\"Country\": \"Korea, South\", \"Capital\": \"Seoul\",\n",
    "     \"RulingParty\": \"People Power Party (PPP)\", \"Opposition\": \"Democratic Party (DP)\",\n",
    "     \"Religion1\": \"Unaffiliated (46.5%)\", \"Religion2\": \"Christian (29%)\"},\n",
    "    {\"Country\": \"Thailand\", \"Capital\": \"Bangkok\",\n",
    "     \"RulingParty\": \"Pheu Thai coalition\", \"Opposition\": \"People's Party (formerly MFP)\",\n",
    "     \"Religion1\": \"Theravada Buddhism (90–95%)\", \"Religion2\": \"Muslim (~5%)\"},\n",
    "    {\"Country\": \"Vietnam\", \"Capital\": \"Hanoi\",\n",
    "     \"RulingParty\": \"Communist Party of Vietnam (CPV)\", \"Opposition\": \"None (one-party)\",\n",
    "     \"Religion1\": \"Irreligion/Folk Religion (76.5%)\", \"Religion2\": \"Buddhism (13.3%)\"},\n",
    "]\n",
    "\n",
    "# ---------- 2) Build Indo-Pacific polygons with attributes ----------\n",
    "world = ee.FeatureCollection(\"USDOS/LSIB_SIMPLE/2017\")\n",
    "\n",
    "def attach_profile(p):\n",
    "    fc = world.filter(ee.Filter.eq('country_na', p[\"Country\"]))\n",
    "    return fc.map(lambda f: f.set(p))\n",
    "\n",
    "ip_fc = ee.FeatureCollection([])\n",
    "for p in profiles:\n",
    "    ip_fc = ip_fc.merge(attach_profile(p))\n",
    "\n",
    "extent = ee.Geometry.Rectangle([-70, -50, 30, 40], geodesic=False)\n",
    "non_ip_fc = world.filter(ee.Filter.Not(ee.Filter.intersects('.geo', extent)))\n",
    "\n",
    "# ---------- 3) Map setup with polygons ----------\n",
    "m = geemap.Map(center=[-10, 140], zoom=3)\n",
    "m.add_basemap(\"CartoDB.Positron\")\n",
    "\n",
    "non_ip_style = non_ip_fc.style(color=\"a0a0a0\", fillColor=\"5ca2ff\", width=0.2)\n",
    "ip_style     = ip_fc.style(color=\"ffffff\", fillColor=\"ffcc00\", width=1.4)\n",
    "\n",
    "m.addLayer(non_ip_style, {}, \"Non–Indo-Pacific (blue)\", True, 0.18)\n",
    "m.addLayer(ip_style, {}, \"Indo-Pacific (polygons)\")\n",
    "\n",
    "# ---------- 4) Add diamond markers with popups ----------\n",
    "centroids = ip_fc.map(lambda f: ee.Feature(f.geometry().centroid(), f.toDictionary()))\n",
    "gj = geemap.ee_to_geojson(centroids)\n",
    "\n",
    "diamond_html = \"\"\"\n",
    "<div style=\"\n",
    "  width:14px;height:14px;\n",
    "  background:#ffcc00;\n",
    "  border:2px solid white;\n",
    "  transform: rotate(45deg);\n",
    "  box-shadow: 0 0 3px rgba(0,0,0,0.35);\n",
    "\"></div>\n",
    "\"\"\"\n",
    "\n",
    "for feat in gj[\"features\"]:\n",
    "    lon, lat = feat[\"geometry\"][\"coordinates\"]\n",
    "    props = feat[\"properties\"]\n",
    "    popup_html = HTML(value=f\"\"\"\n",
    "        <div style='font-family:system-ui; min-width:220px'>\n",
    "          <b>{props.get('Country','')}</b><br/>\n",
    "          <b>Capital:</b> {props.get('Capital','')}<br/>\n",
    "          <b>Ruling:</b> {props.get('RulingParty','')}<br/>\n",
    "          <b>Opposition:</b> {props.get('Opposition','')}<br/>\n",
    "          <b>Religions:</b> {props.get('Religion1','')}, {props.get('Religion2','')}\n",
    "        </div>\n",
    "    \"\"\")\n",
    "    popup = Popup(child=popup_html, max_width=260)\n",
    "    marker = Marker(location=(lat, lon), icon=DivIcon(html=diamond_html), draggable=False)\n",
    "    marker.popup = popup\n",
    "    m.add_layer(marker)\n",
    "\n",
    "m.addLayer(extent, {\"color\": \"FF0000\"}, \"Study extent\", False)\n",
    "m.addLayerControl()\n",
    "m"
   ]
  },
  {
   "cell_type": "code",
   "execution_count": null,
   "id": "aebf5a5f-a070-45d9-99ba-a4b037fb0d36",
   "metadata": {},
   "outputs": [],
   "source": []
  }
 ],
 "metadata": {
  "kernelspec": {
   "display_name": "Python [conda env:base] *",
   "language": "python",
   "name": "conda-base-py"
  },
  "language_info": {
   "codemirror_mode": {
    "name": "ipython",
    "version": 3
   },
   "file_extension": ".py",
   "mimetype": "text/x-python",
   "name": "python",
   "nbconvert_exporter": "python",
   "pygments_lexer": "ipython3",
   "version": "3.13.5"
  }
 },
 "nbformat": 4,
 "nbformat_minor": 5
}
